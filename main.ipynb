{
  "cells": [
    {
      "cell_type": "markdown",
      "metadata": {},
      "source": [
        "Importing Libraries"
      ]
    },
    {
      "cell_type": "code",
      "execution_count": null,
      "metadata": {
        "id": "kzJC54bfSGXv"
      },
      "outputs": [],
      "source": [
        "import cv2\n",
        "import matplotlib.pyplot as plt\n",
        "import numpy as np\n",
        "import os\n",
        "import skimage\n",
        "import pandas as pd\n",
        "from tqdm import tqdm\n",
        "from sklearn.model_selection import train_test_split\n",
        "from sklearn.metrics import accuracy_score, classification_report\n",
        "from sklearn.ensemble import RandomForestClassifier\n",
        "import pickle"
      ]
    },
    {
      "cell_type": "markdown",
      "metadata": {},
      "source": [
        "Reading Dataset"
      ]
    },
    {
      "cell_type": "code",
      "execution_count": null,
      "metadata": {
        "colab": {
          "base_uri": "https://localhost:8080/",
          "height": 206
        },
        "id": "XggoMlSWyObJ",
        "outputId": "a91adff4-9e67-4a56-db28-e817dfbe7254"
      },
      "outputs": [],
      "source": [
        "df = pd.read_csv('train.csv')\n",
        "df.head()"
      ]
    },
    {
      "cell_type": "markdown",
      "metadata": {},
      "source": [
        "Labeling every image "
      ]
    },
    {
      "cell_type": "code",
      "execution_count": null,
      "metadata": {
        "colab": {
          "base_uri": "https://localhost:8080/",
          "height": 206
        },
        "id": "muO0k4cizRGW",
        "outputId": "8a37f1da-b56f-4c92-fae7-773e796a20c5"
      },
      "outputs": [],
      "source": [
        "df['label'] = df[['healthy', 'multiple_diseases', 'rust', 'scab']].idxmax(axis=1)\n",
        "df['label'] = df['label'].map({\n",
        "    'healthy': 0,\n",
        "    'multiple_diseases': 1,\n",
        "    'rust': 2,\n",
        "    'scab': 3\n",
        "})\n",
        "df.head()"
      ]
    },
    {
      "cell_type": "markdown",
      "metadata": {},
      "source": [
        "Functions for feature extraction"
      ]
    },
    {
      "cell_type": "code",
      "execution_count": null,
      "metadata": {
        "id": "WmxnAVOA10ah"
      },
      "outputs": [],
      "source": [
        "def mean_brightness(img):\n",
        "  hsv = cv2.cvtColor(img, cv2.COLOR_BGR2HSV)\n",
        "  h, s, v = cv2.split(hsv)\n",
        "  return np.mean(v)\n",
        "\n",
        "def std_brightness(img):\n",
        "  hsv = cv2.cvtColor(img, cv2.COLOR_BGR2HSV)\n",
        "  h, s, v = cv2.split(hsv)\n",
        "  return np.std(v)\n",
        "\n",
        "def mean_saturation(img):\n",
        "  hsv = cv2.cvtColor(img, cv2.COLOR_BGR2HSV)\n",
        "  h, s, v = cv2.split(hsv)\n",
        "  return np.mean(s)\n",
        "\n",
        "def std_saturation(img):\n",
        "  hsv = cv2.cvtColor(img, cv2.COLOR_BGR2HSV)\n",
        "  h, s, v = cv2.split(hsv)\n",
        "  return np.std(s)\n",
        "\n",
        "def yellow_area_fraction(img):\n",
        "  lower_yellow = np.array([20, 100, 100])\n",
        "  upper_yellow = np.array([40, 255, 255])\n",
        "\n",
        "  yellow_mask = cv2.inRange(img, lower_yellow, upper_yellow)\n",
        "  yellow_pixels = np.sum(yellow_mask > 0)\n",
        "  total_pixels = yellow_mask.size\n",
        "  return yellow_pixels / total_pixels\n",
        "\n",
        "def lbp_hist(img):\n",
        "  gray = cv2.cvtColor(img, cv2.COLOR_BGR2GRAY)\n",
        "  lbp = skimage.feature.local_binary_pattern(gray, P=8, R=1, method='uniform')\n",
        "  lbp_hist, _ = np.histogram(lbp.ravel(), bins=np.arange(0, 10), density=True)\n",
        "  return lbp_hist\n",
        "\n",
        "def number_of_blobs(img):\n",
        "  lower_yellow = np.array([20, 100, 100])\n",
        "  upper_yellow = np.array([40, 255, 255])\n",
        "\n",
        "  yellow_mask = cv2.inRange(img, lower_yellow, upper_yellow)\n",
        "  num_labels, labels, stats, _ = cv2.connectedComponentsWithStats(yellow_mask, connectivity=8)\n",
        "  blob_areas = stats[1:, cv2.CC_STAT_AREA]\n",
        "  num_blobs = len(blob_areas)\n",
        "  avg_blob_size = np.mean(blob_areas) if num_blobs > 0 else 0\n",
        "  feature = []\n",
        "  feature.append(num_blobs)\n",
        "  feature.append(avg_blob_size)\n",
        "  return feature\n",
        "\n",
        "def dark_area_fraction(img, threshold=50):\n",
        "    \n",
        "    # Convert to HSV\n",
        "    hsv = cv2.cvtColor(img, cv2.COLOR_BGR2HSV)\n",
        "    v_channel = hsv[:, :, 2]\n",
        "\n",
        "    # Make a mask of \"dark\" pixels\n",
        "    dark_mask = v_channel < threshold\n",
        "\n",
        "    # Compute fraction\n",
        "    dark_pixels = np.sum(dark_mask)\n",
        "    total_pixels = dark_mask.size\n",
        "\n",
        "    return dark_pixels / total_pixels\n",
        "\n",
        "\n",
        "def extract_features(img_path):\n",
        "  img_path = os.path.join('images', img_path) + \".jpg\"\n",
        "  img = cv2.imread(img_path)\n",
        "  img = cv2.resize(img, (500, 500))\n",
        "  features = []\n",
        "  features.append(mean_brightness(img))\n",
        "  features.append(std_brightness(img))\n",
        "  features.append(mean_saturation(img))\n",
        "  features.append(std_saturation(img))\n",
        "  features.append(yellow_area_fraction(img))\n",
        "  features.extend(lbp_hist(img))\n",
        "  features.extend(number_of_blobs(img))\n",
        "  features.append(dark_area_fraction(img))\n",
        "  features = np.array(features)\n",
        "  return features"
      ]
    },
    {
      "cell_type": "code",
      "execution_count": null,
      "metadata": {
        "colab": {
          "base_uri": "https://localhost:8080/"
        },
        "id": "4Sf3qx0-7ta8",
        "outputId": "6b5dba5c-4c10-4ba1-d44b-bc31631f3f86"
      },
      "outputs": [],
      "source": [
        "len(df)"
      ]
    },
    {
      "cell_type": "markdown",
      "metadata": {},
      "source": [
        "Creating feature array"
      ]
    },
    {
      "cell_type": "code",
      "execution_count": null,
      "metadata": {
        "colab": {
          "base_uri": "https://localhost:8080/",
          "height": 66,
          "referenced_widgets": [
            "172c0b0169c240f5b2e383378372a36a",
            "3b91f16ca3ca44ccb14e8c462f5d50e4",
            "cf951a0bb55b4e68a7d6d2d63571dce8",
            "c6c5937ea3d04d10b0d6bcc722e222cd",
            "bf1d3c082d48406bab1eba54f1f9e797",
            "2312da9423b543278de90670e1556772",
            "f2f88912220c448ea57e5b33f454266d",
            "c0f9afba888a47aab478b6f3fc7671cb",
            "9c5a659841224a54a4c7df824bb09d49",
            "6ba5d78c86934899bbf663bb89e16cf5",
            "b1d28d14895c4af3be8696584876cb27"
          ]
        },
        "collapsed": true,
        "id": "Zd4bSRZp127I",
        "outputId": "2cb06cd0-cc55-4bd9-98a5-06ccdcc7827d"
      },
      "outputs": [],
      "source": [
        "x_features = []\n",
        "for image_id in tqdm(df['image_id']):\n",
        "  features = extract_features(image_id)\n",
        "  x_features.append(features)\n",
        "\n",
        "x_features = np.array(x_features)\n",
        "x_features.shape\n"
      ]
    },
    {
      "cell_type": "code",
      "execution_count": null,
      "metadata": {
        "id": "FWxJoeGB7A4N"
      },
      "outputs": [],
      "source": [
        "y = df['label'].to_numpy()\n",
        "x = x_features"
      ]
    },
    {
      "cell_type": "markdown",
      "metadata": {},
      "source": [
        "Train Test Split"
      ]
    },
    {
      "cell_type": "code",
      "execution_count": null,
      "metadata": {
        "id": "cvCC3-23AfHL"
      },
      "outputs": [],
      "source": [
        "x_train, x_test, y_train, y_test = train_test_split(x, y, test_size=0.2, random_state=42)"
      ]
    },
    {
      "cell_type": "markdown",
      "metadata": {},
      "source": [
        "Model Training"
      ]
    },
    {
      "cell_type": "code",
      "execution_count": null,
      "metadata": {
        "colab": {
          "base_uri": "https://localhost:8080/",
          "height": 80
        },
        "id": "cSOYRtwLAwXK",
        "outputId": "7e3c588e-186e-4d89-eb95-21700516b5e2"
      },
      "outputs": [],
      "source": [
        "classifier = RandomForestClassifier(n_estimators=100, random_state=42)\n",
        "classifier.fit(x_train, y_train)"
      ]
    },
    {
      "cell_type": "markdown",
      "metadata": {},
      "source": [
        "Predicting"
      ]
    },
    {
      "cell_type": "code",
      "execution_count": null,
      "metadata": {
        "id": "kLfwF3R69xUz"
      },
      "outputs": [],
      "source": [
        "predict = classifier.predict(x_test)\n",
        "print(classification_report(y_test, predict))"
      ]
    },
    {
      "cell_type": "code",
      "execution_count": null,
      "metadata": {},
      "outputs": [],
      "source": [
        "with open('classifier.pkl', 'wb') as f:\n",
        "    pickle.dump(classifier,f)\n"
      ]
    },
    {
      "cell_type": "markdown",
      "metadata": {},
      "source": [
        "On Test.csv"
      ]
    },
    {
      "cell_type": "code",
      "execution_count": null,
      "metadata": {
        "colab": {
          "base_uri": "https://localhost:8080/",
          "height": 206
        },
        "id": "JYs13JQR9rOY",
        "outputId": "f5d4ff78-8f54-48ef-d1c9-2d2249b22e7f"
      },
      "outputs": [],
      "source": [
        "test_df = pd.read_csv('test.csv')\n",
        "test_df.head()"
      ]
    },
    {
      "cell_type": "code",
      "execution_count": null,
      "metadata": {
        "id": "svkdDswjzUrv"
      },
      "outputs": [],
      "source": [
        "x_features = []\n",
        "for image_id in tqdm(test_df['image_id']):\n",
        "  features = extract_features(image_id)\n",
        "  x_features.append(features)\n",
        "\n",
        "x_features = np.array(x_features)\n",
        "x_features.shape"
      ]
    },
    {
      "cell_type": "code",
      "execution_count": null,
      "metadata": {
        "id": "oAsp1DcBZIvm"
      },
      "outputs": [],
      "source": [
        "result = classifier.predict(x_features)"
      ]
    },
    {
      "cell_type": "code",
      "execution_count": null,
      "metadata": {
        "id": "C4EbEQ-zxydq"
      },
      "outputs": [],
      "source": [
        "result_df = test_df.copy()\n",
        "result_df['Healthy'] = [1 if x==0 else 0 for x in result]\n",
        "result_df['multiple_diseases'] = [1 if x==1 else 0 for x in result]\n",
        "result_df['rust'] = [1 if x==2 else 0 for x in result]\n",
        "result_df['scab'] = [1 if x==3 else 0 for x in result]"
      ]
    },
    {
      "cell_type": "code",
      "execution_count": null,
      "metadata": {},
      "outputs": [],
      "source": [
        "result_df.head()"
      ]
    },
    {
      "cell_type": "code",
      "execution_count": null,
      "metadata": {},
      "outputs": [],
      "source": [
        "result_df.to_csv('final_submission.csv',index=False)"
      ]
    }
  ],
  "metadata": {
    "accelerator": "GPU",
    "colab": {
      "gpuType": "T4",
      "provenance": []
    },
    "kernelspec": {
      "display_name": "Python 3",
      "name": "python3"
    },
    "language_info": {
      "codemirror_mode": {
        "name": "ipython",
        "version": 3
      },
      "file_extension": ".py",
      "mimetype": "text/x-python",
      "name": "python",
      "nbconvert_exporter": "python",
      "pygments_lexer": "ipython3",
      "version": "3.11.3"
    },
    "widgets": {
      "application/vnd.jupyter.widget-state+json": {
        "172c0b0169c240f5b2e383378372a36a": {
          "model_module": "@jupyter-widgets/controls",
          "model_module_version": "1.5.0",
          "model_name": "HBoxModel",
          "state": {
            "_dom_classes": [],
            "_model_module": "@jupyter-widgets/controls",
            "_model_module_version": "1.5.0",
            "_model_name": "HBoxModel",
            "_view_count": null,
            "_view_module": "@jupyter-widgets/controls",
            "_view_module_version": "1.5.0",
            "_view_name": "HBoxView",
            "box_style": "",
            "children": [
              "IPY_MODEL_3b91f16ca3ca44ccb14e8c462f5d50e4",
              "IPY_MODEL_cf951a0bb55b4e68a7d6d2d63571dce8",
              "IPY_MODEL_c6c5937ea3d04d10b0d6bcc722e222cd"
            ],
            "layout": "IPY_MODEL_bf1d3c082d48406bab1eba54f1f9e797"
          }
        },
        "2312da9423b543278de90670e1556772": {
          "model_module": "@jupyter-widgets/base",
          "model_module_version": "1.2.0",
          "model_name": "LayoutModel",
          "state": {
            "_model_module": "@jupyter-widgets/base",
            "_model_module_version": "1.2.0",
            "_model_name": "LayoutModel",
            "_view_count": null,
            "_view_module": "@jupyter-widgets/base",
            "_view_module_version": "1.2.0",
            "_view_name": "LayoutView",
            "align_content": null,
            "align_items": null,
            "align_self": null,
            "border": null,
            "bottom": null,
            "display": null,
            "flex": null,
            "flex_flow": null,
            "grid_area": null,
            "grid_auto_columns": null,
            "grid_auto_flow": null,
            "grid_auto_rows": null,
            "grid_column": null,
            "grid_gap": null,
            "grid_row": null,
            "grid_template_areas": null,
            "grid_template_columns": null,
            "grid_template_rows": null,
            "height": null,
            "justify_content": null,
            "justify_items": null,
            "left": null,
            "margin": null,
            "max_height": null,
            "max_width": null,
            "min_height": null,
            "min_width": null,
            "object_fit": null,
            "object_position": null,
            "order": null,
            "overflow": null,
            "overflow_x": null,
            "overflow_y": null,
            "padding": null,
            "right": null,
            "top": null,
            "visibility": null,
            "width": null
          }
        },
        "3b91f16ca3ca44ccb14e8c462f5d50e4": {
          "model_module": "@jupyter-widgets/controls",
          "model_module_version": "1.5.0",
          "model_name": "HTMLModel",
          "state": {
            "_dom_classes": [],
            "_model_module": "@jupyter-widgets/controls",
            "_model_module_version": "1.5.0",
            "_model_name": "HTMLModel",
            "_view_count": null,
            "_view_module": "@jupyter-widgets/controls",
            "_view_module_version": "1.5.0",
            "_view_name": "HTMLView",
            "description": "",
            "description_tooltip": null,
            "layout": "IPY_MODEL_2312da9423b543278de90670e1556772",
            "placeholder": "​",
            "style": "IPY_MODEL_f2f88912220c448ea57e5b33f454266d",
            "value": "100%"
          }
        },
        "6ba5d78c86934899bbf663bb89e16cf5": {
          "model_module": "@jupyter-widgets/base",
          "model_module_version": "1.2.0",
          "model_name": "LayoutModel",
          "state": {
            "_model_module": "@jupyter-widgets/base",
            "_model_module_version": "1.2.0",
            "_model_name": "LayoutModel",
            "_view_count": null,
            "_view_module": "@jupyter-widgets/base",
            "_view_module_version": "1.2.0",
            "_view_name": "LayoutView",
            "align_content": null,
            "align_items": null,
            "align_self": null,
            "border": null,
            "bottom": null,
            "display": null,
            "flex": null,
            "flex_flow": null,
            "grid_area": null,
            "grid_auto_columns": null,
            "grid_auto_flow": null,
            "grid_auto_rows": null,
            "grid_column": null,
            "grid_gap": null,
            "grid_row": null,
            "grid_template_areas": null,
            "grid_template_columns": null,
            "grid_template_rows": null,
            "height": null,
            "justify_content": null,
            "justify_items": null,
            "left": null,
            "margin": null,
            "max_height": null,
            "max_width": null,
            "min_height": null,
            "min_width": null,
            "object_fit": null,
            "object_position": null,
            "order": null,
            "overflow": null,
            "overflow_x": null,
            "overflow_y": null,
            "padding": null,
            "right": null,
            "top": null,
            "visibility": null,
            "width": null
          }
        },
        "9c5a659841224a54a4c7df824bb09d49": {
          "model_module": "@jupyter-widgets/controls",
          "model_module_version": "1.5.0",
          "model_name": "ProgressStyleModel",
          "state": {
            "_model_module": "@jupyter-widgets/controls",
            "_model_module_version": "1.5.0",
            "_model_name": "ProgressStyleModel",
            "_view_count": null,
            "_view_module": "@jupyter-widgets/base",
            "_view_module_version": "1.2.0",
            "_view_name": "StyleView",
            "bar_color": null,
            "description_width": ""
          }
        },
        "b1d28d14895c4af3be8696584876cb27": {
          "model_module": "@jupyter-widgets/controls",
          "model_module_version": "1.5.0",
          "model_name": "DescriptionStyleModel",
          "state": {
            "_model_module": "@jupyter-widgets/controls",
            "_model_module_version": "1.5.0",
            "_model_name": "DescriptionStyleModel",
            "_view_count": null,
            "_view_module": "@jupyter-widgets/base",
            "_view_module_version": "1.2.0",
            "_view_name": "StyleView",
            "description_width": ""
          }
        },
        "bf1d3c082d48406bab1eba54f1f9e797": {
          "model_module": "@jupyter-widgets/base",
          "model_module_version": "1.2.0",
          "model_name": "LayoutModel",
          "state": {
            "_model_module": "@jupyter-widgets/base",
            "_model_module_version": "1.2.0",
            "_model_name": "LayoutModel",
            "_view_count": null,
            "_view_module": "@jupyter-widgets/base",
            "_view_module_version": "1.2.0",
            "_view_name": "LayoutView",
            "align_content": null,
            "align_items": null,
            "align_self": null,
            "border": null,
            "bottom": null,
            "display": null,
            "flex": null,
            "flex_flow": null,
            "grid_area": null,
            "grid_auto_columns": null,
            "grid_auto_flow": null,
            "grid_auto_rows": null,
            "grid_column": null,
            "grid_gap": null,
            "grid_row": null,
            "grid_template_areas": null,
            "grid_template_columns": null,
            "grid_template_rows": null,
            "height": null,
            "justify_content": null,
            "justify_items": null,
            "left": null,
            "margin": null,
            "max_height": null,
            "max_width": null,
            "min_height": null,
            "min_width": null,
            "object_fit": null,
            "object_position": null,
            "order": null,
            "overflow": null,
            "overflow_x": null,
            "overflow_y": null,
            "padding": null,
            "right": null,
            "top": null,
            "visibility": null,
            "width": null
          }
        },
        "c0f9afba888a47aab478b6f3fc7671cb": {
          "model_module": "@jupyter-widgets/base",
          "model_module_version": "1.2.0",
          "model_name": "LayoutModel",
          "state": {
            "_model_module": "@jupyter-widgets/base",
            "_model_module_version": "1.2.0",
            "_model_name": "LayoutModel",
            "_view_count": null,
            "_view_module": "@jupyter-widgets/base",
            "_view_module_version": "1.2.0",
            "_view_name": "LayoutView",
            "align_content": null,
            "align_items": null,
            "align_self": null,
            "border": null,
            "bottom": null,
            "display": null,
            "flex": null,
            "flex_flow": null,
            "grid_area": null,
            "grid_auto_columns": null,
            "grid_auto_flow": null,
            "grid_auto_rows": null,
            "grid_column": null,
            "grid_gap": null,
            "grid_row": null,
            "grid_template_areas": null,
            "grid_template_columns": null,
            "grid_template_rows": null,
            "height": null,
            "justify_content": null,
            "justify_items": null,
            "left": null,
            "margin": null,
            "max_height": null,
            "max_width": null,
            "min_height": null,
            "min_width": null,
            "object_fit": null,
            "object_position": null,
            "order": null,
            "overflow": null,
            "overflow_x": null,
            "overflow_y": null,
            "padding": null,
            "right": null,
            "top": null,
            "visibility": null,
            "width": null
          }
        },
        "c6c5937ea3d04d10b0d6bcc722e222cd": {
          "model_module": "@jupyter-widgets/controls",
          "model_module_version": "1.5.0",
          "model_name": "HTMLModel",
          "state": {
            "_dom_classes": [],
            "_model_module": "@jupyter-widgets/controls",
            "_model_module_version": "1.5.0",
            "_model_name": "HTMLModel",
            "_view_count": null,
            "_view_module": "@jupyter-widgets/controls",
            "_view_module_version": "1.5.0",
            "_view_name": "HTMLView",
            "description": "",
            "description_tooltip": null,
            "layout": "IPY_MODEL_6ba5d78c86934899bbf663bb89e16cf5",
            "placeholder": "​",
            "style": "IPY_MODEL_b1d28d14895c4af3be8696584876cb27",
            "value": " 1821/1821 [01:51&lt;00:00, 10.81it/s]"
          }
        },
        "cf951a0bb55b4e68a7d6d2d63571dce8": {
          "model_module": "@jupyter-widgets/controls",
          "model_module_version": "1.5.0",
          "model_name": "FloatProgressModel",
          "state": {
            "_dom_classes": [],
            "_model_module": "@jupyter-widgets/controls",
            "_model_module_version": "1.5.0",
            "_model_name": "FloatProgressModel",
            "_view_count": null,
            "_view_module": "@jupyter-widgets/controls",
            "_view_module_version": "1.5.0",
            "_view_name": "ProgressView",
            "bar_style": "success",
            "description": "",
            "description_tooltip": null,
            "layout": "IPY_MODEL_c0f9afba888a47aab478b6f3fc7671cb",
            "max": 1821,
            "min": 0,
            "orientation": "horizontal",
            "style": "IPY_MODEL_9c5a659841224a54a4c7df824bb09d49",
            "value": 1821
          }
        },
        "f2f88912220c448ea57e5b33f454266d": {
          "model_module": "@jupyter-widgets/controls",
          "model_module_version": "1.5.0",
          "model_name": "DescriptionStyleModel",
          "state": {
            "_model_module": "@jupyter-widgets/controls",
            "_model_module_version": "1.5.0",
            "_model_name": "DescriptionStyleModel",
            "_view_count": null,
            "_view_module": "@jupyter-widgets/base",
            "_view_module_version": "1.2.0",
            "_view_name": "StyleView",
            "description_width": ""
          }
        }
      }
    }
  },
  "nbformat": 4,
  "nbformat_minor": 0
}
